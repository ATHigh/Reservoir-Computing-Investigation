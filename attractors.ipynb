{
 "cells": [
  {
   "cell_type": "markdown",
   "id": "f5afa022",
   "metadata": {},
   "source": [
    "# Import libs"
   ]
  },
  {
   "cell_type": "code",
   "execution_count": null,
   "id": "1e5cace2",
   "metadata": {},
   "outputs": [],
   "source": [
    "import reservoirpy as rpy\n",
    "import numpy as np\n",
    "from sklearn.metrics import root_mean_squared_error, mean_absolute_percentage_error\n",
    "from reservoirpy.nodes import Ridge, Reservoir\n",
    "from reservoirpy.datasets import rossler, henon_map, rabinovich_fabrikant, to_forecasting\n",
    "from sklearn.linear_model import Ridge as Ridge_sklearn\n",
    "from chaos_indic import HurstTraj, NoiseFactor, DimEmb, max_lyapunov, fourier_harmonic_count, ks_entropy_partition\n",
    "\n",
    "rpy.verbosity(0)  # no need to be too verbose here\n",
    "rpy.set_seed(23)  # make everything reproducible!"
   ]
  },
  {
   "cell_type": "markdown",
   "id": "c39ab988",
   "metadata": {},
   "source": [
    "# Rossler"
   ]
  },
  {
   "cell_type": "code",
   "execution_count": null,
   "id": "5db42382",
   "metadata": {},
   "outputs": [],
   "source": [
    "rossler_attractor = rossler(n_timesteps=5000)"
   ]
  },
  {
   "cell_type": "markdown",
   "id": "87ddca19",
   "metadata": {},
   "source": [
    "# Henon Map"
   ]
  },
  {
   "cell_type": "code",
   "execution_count": null,
   "id": "9f7e26cf",
   "metadata": {},
   "outputs": [],
   "source": []
  },
  {
   "cell_type": "markdown",
   "id": "1bca0c3f",
   "metadata": {},
   "source": [
    "# Rabinovich"
   ]
  },
  {
   "cell_type": "code",
   "execution_count": null,
   "id": "f5cf3a14",
   "metadata": {},
   "outputs": [],
   "source": []
  }
 ],
 "metadata": {
  "kernelspec": {
   "display_name": ".venv",
   "language": "python",
   "name": "python3"
  },
  "language_info": {
   "name": "python",
   "version": "3.12.4"
  }
 },
 "nbformat": 4,
 "nbformat_minor": 5
}
